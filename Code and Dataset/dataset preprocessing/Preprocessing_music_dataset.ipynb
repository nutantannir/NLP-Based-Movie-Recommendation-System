{
 "cells": [
  {
   "cell_type": "markdown",
   "id": "0856ed5a-691b-4f00-b91b-e14b16e411ab",
   "metadata": {},
   "source": [
    "# DATASET PREPROCESSING : SONGS DATASET"
   ]
  },
  {
   "cell_type": "code",
   "execution_count": 5,
   "id": "fded3cf5-6c4c-4be0-a920-0c7600dfa537",
   "metadata": {},
   "outputs": [],
   "source": [
    "import pandas as pd\n",
    "music_df= pd.read_csv(\"my_SPOTIFY_GENIUS_SONG_DATASET.csv\")"
   ]
  },
  {
   "cell_type": "code",
   "execution_count": 9,
   "id": "bcc1fcad-e993-4595-90d7-4d424aa05044",
   "metadata": {},
   "outputs": [
    {
     "name": "stdout",
     "output_type": "stream",
     "text": [
      "<class 'pandas.core.frame.DataFrame'>\n",
      "RangeIndex: 1490 entries, 0 to 1489\n",
      "Data columns (total 10 columns):\n",
      " #   Column              Non-Null Count  Dtype  \n",
      "---  ------              --------------  -----  \n",
      " 0   Track Name          1490 non-null   object \n",
      " 1   Artist              1490 non-null   object \n",
      " 2   Album               1490 non-null   object \n",
      " 3   Release Year        1490 non-null   int64  \n",
      " 4   Track Popularity    1490 non-null   int64  \n",
      " 5   Lyrics              1490 non-null   object \n",
      " 6   Processed_Lyrics    1490 non-null   object \n",
      " 7   Sentiment           1490 non-null   object \n",
      " 8   Sentiment Score     1490 non-null   float64\n",
      " 9   Extracted_Keywords  1490 non-null   object \n",
      "dtypes: float64(1), int64(2), object(7)\n",
      "memory usage: 116.5+ KB\n"
     ]
    }
   ],
   "source": [
    "music_df.drop(columns=['Dominant Topic','emotion_scores','emotion_trust_normalized','emotion_joy_normalized','emotion_positive_normalized','emotion_positive_normalized','emotion_anger_normalized','emotion_disgust_normalized','emotion_fear_normalized','emotion_negative_normalized','emotion_sadness_normalized','emotion_anticipation_normalized','emotion_surprise_normalized'], inplace=True)\n",
    "music_df.info()"
   ]
  },
  {
   "cell_type": "markdown",
   "id": "5ea9c2cc-463d-40bb-af62-a00de740ee22",
   "metadata": {},
   "source": [
    "### STEP 1: PREPROCESSING THE TEXT COLUMNS "
   ]
  },
  {
   "cell_type": "markdown",
   "id": "ea13f5f6-71ed-4f84-8195-4fb3fb510055",
   "metadata": {},
   "source": [
    "### Lyrics, Preprocessed lyrics, extracted keywords have already been processed when creating the dataset, therefore those columns have been skipped from this step "
   ]
  },
  {
   "cell_type": "code",
   "execution_count": 11,
   "id": "95f1af16-e771-4830-96f6-1773d206beb7",
   "metadata": {},
   "outputs": [
    {
     "data": {
      "text/html": [
       "<div>\n",
       "<style scoped>\n",
       "    .dataframe tbody tr th:only-of-type {\n",
       "        vertical-align: middle;\n",
       "    }\n",
       "\n",
       "    .dataframe tbody tr th {\n",
       "        vertical-align: top;\n",
       "    }\n",
       "\n",
       "    .dataframe thead th {\n",
       "        text-align: right;\n",
       "    }\n",
       "</style>\n",
       "<table border=\"1\" class=\"dataframe\">\n",
       "  <thead>\n",
       "    <tr style=\"text-align: right;\">\n",
       "      <th></th>\n",
       "      <th>Track Name</th>\n",
       "      <th>Artist</th>\n",
       "      <th>Album</th>\n",
       "      <th>Release Year</th>\n",
       "      <th>Track Popularity</th>\n",
       "      <th>Lyrics</th>\n",
       "      <th>Processed_Lyrics</th>\n",
       "      <th>Sentiment</th>\n",
       "      <th>Sentiment Score</th>\n",
       "      <th>Extracted_Keywords</th>\n",
       "    </tr>\n",
       "  </thead>\n",
       "  <tbody>\n",
       "    <tr>\n",
       "      <th>0</th>\n",
       "      <td>oops!...i did it again</td>\n",
       "      <td>britney spears</td>\n",
       "      <td>oops!... i did it again</td>\n",
       "      <td>2000</td>\n",
       "      <td>79</td>\n",
       "      <td>Mmm, yeah\\nYeah, yeah, yeah, yeah, yeah, yeah\\...</td>\n",
       "      <td>mmm think made believe friend baby might seem ...</td>\n",
       "      <td>positive</td>\n",
       "      <td>0.133514</td>\n",
       "      <td>dreamin, wishin, fool, aw, love</td>\n",
       "    </tr>\n",
       "    <tr>\n",
       "      <th>1</th>\n",
       "      <td>bye bye bye - from deadpool and wolverine soun...</td>\n",
       "      <td>*nsync</td>\n",
       "      <td>no strings attached</td>\n",
       "      <td>2000</td>\n",
       "      <td>85</td>\n",
       "      <td>Bye, bye, bye\\nBye, bye\\n♪\\nBye, bye\\n♪\\nI, I'...</td>\n",
       "      <td>bye bye bye bye bye bye bye im tonight youre p...</td>\n",
       "      <td>negative</td>\n",
       "      <td>-0.062693</td>\n",
       "      <td>byeyou, ain, leave, bye, baby</td>\n",
       "    </tr>\n",
       "    <tr>\n",
       "      <th>2</th>\n",
       "      <td>what a girl wants</td>\n",
       "      <td>christina aguilera</td>\n",
       "      <td>christina aguilera (expanded edition)</td>\n",
       "      <td>1999</td>\n",
       "      <td>64</td>\n",
       "      <td>What a girl wants, what a girl needs\\nWhatever...</td>\n",
       "      <td>girl want girl need whatever make happy set fr...</td>\n",
       "      <td>positive</td>\n",
       "      <td>0.361380</td>\n",
       "      <td>girl, christina, needs, love, wants</td>\n",
       "    </tr>\n",
       "    <tr>\n",
       "      <th>3</th>\n",
       "      <td>candy</td>\n",
       "      <td>mandy moore</td>\n",
       "      <td>so real</td>\n",
       "      <td>1999</td>\n",
       "      <td>50</td>\n",
       "      <td>Give it to me\\nOoh, oh\\nYeah, yeah, yeah, yeah...</td>\n",
       "      <td>give ooh ooh give ooh ooh give im addicted lov...</td>\n",
       "      <td>positive</td>\n",
       "      <td>0.060714</td>\n",
       "      <td>craving, sugar, candy, begging, addicted</td>\n",
       "    </tr>\n",
       "    <tr>\n",
       "      <th>4</th>\n",
       "      <td>shape of my heart</td>\n",
       "      <td>backstreet boys</td>\n",
       "      <td>black &amp; blue</td>\n",
       "      <td>2000</td>\n",
       "      <td>70</td>\n",
       "      <td>Hmm, mmmh, yeah, yeah\\nBaby, please try to for...</td>\n",
       "      <td>hmm mmmh baby please try forgive stay dont put...</td>\n",
       "      <td>positive</td>\n",
       "      <td>0.090000</td>\n",
       "      <td>thinkin, confession, lookin, stay, door</td>\n",
       "    </tr>\n",
       "  </tbody>\n",
       "</table>\n",
       "</div>"
      ],
      "text/plain": [
       "                                          Track Name              Artist  \\\n",
       "0                             oops!...i did it again      britney spears   \n",
       "1  bye bye bye - from deadpool and wolverine soun...              *nsync   \n",
       "2                                  what a girl wants  christina aguilera   \n",
       "3                                              candy         mandy moore   \n",
       "4                                  shape of my heart     backstreet boys   \n",
       "\n",
       "                                   Album  Release Year  Track Popularity  \\\n",
       "0                oops!... i did it again          2000                79   \n",
       "1                    no strings attached          2000                85   \n",
       "2  christina aguilera (expanded edition)          1999                64   \n",
       "3                                so real          1999                50   \n",
       "4                           black & blue          2000                70   \n",
       "\n",
       "                                              Lyrics  \\\n",
       "0  Mmm, yeah\\nYeah, yeah, yeah, yeah, yeah, yeah\\...   \n",
       "1  Bye, bye, bye\\nBye, bye\\n♪\\nBye, bye\\n♪\\nI, I'...   \n",
       "2  What a girl wants, what a girl needs\\nWhatever...   \n",
       "3  Give it to me\\nOoh, oh\\nYeah, yeah, yeah, yeah...   \n",
       "4  Hmm, mmmh, yeah, yeah\\nBaby, please try to for...   \n",
       "\n",
       "                                    Processed_Lyrics Sentiment  \\\n",
       "0  mmm think made believe friend baby might seem ...  positive   \n",
       "1  bye bye bye bye bye bye bye im tonight youre p...  negative   \n",
       "2  girl want girl need whatever make happy set fr...  positive   \n",
       "3  give ooh ooh give ooh ooh give im addicted lov...  positive   \n",
       "4  hmm mmmh baby please try forgive stay dont put...  positive   \n",
       "\n",
       "   Sentiment Score                        Extracted_Keywords  \n",
       "0         0.133514           dreamin, wishin, fool, aw, love  \n",
       "1        -0.062693             byeyou, ain, leave, bye, baby  \n",
       "2         0.361380       girl, christina, needs, love, wants  \n",
       "3         0.060714  craving, sugar, candy, begging, addicted  \n",
       "4         0.090000   thinkin, confession, lookin, stay, door  "
      ]
     },
     "execution_count": 11,
     "metadata": {},
     "output_type": "execute_result"
    }
   ],
   "source": [
    "import pandas as pd\n",
    "import re\n",
    "\n",
    "#FUNCTION TO PREPROCESS TEXT\n",
    "def preprocess_text(text):\n",
    "    if isinstance(text, str): #CHECKS IF THE INPUT IS A STRING\n",
    "        # LOWERCASING\n",
    "        text = text.lower()\n",
    "        # TRIMMING WHITESPACE\n",
    "        text = text.strip()\n",
    "        # REMOVING SPECIAL CHARACTERS\n",
    "        #text = re.sub(r'[^\\w\\s]', '', text)  # Remove punctuation\n",
    "    return text\n",
    "\n",
    "# APPLYING PREPROCESSING TO THE TEXT COLUMNS\n",
    "music_df['Track Name'] = music_df['Track Name'].apply(preprocess_text)\n",
    "music_df['Artist'] = music_df['Artist'].apply(preprocess_text)\n",
    "music_df['Album'] = music_df['Album'].apply(preprocess_text)\n",
    "music_df['Sentiment'] = music_df['Sentiment'].apply(preprocess_text)\n",
    "\n",
    "music_df.to_csv('music_preprocess.csv', index=False) \n",
    "music_df.head()\n"
   ]
  },
  {
   "cell_type": "markdown",
   "id": "5a59d1b1-8665-4ea7-a214-e22a5663c16e",
   "metadata": {},
   "source": [
    "### STEP 2: NORMALIZING THE NUMERICAL COLUMNS"
   ]
  },
  {
   "cell_type": "markdown",
   "id": "dde9d38e-6d06-4d71-8e0e-c0d58e28cd14",
   "metadata": {},
   "source": [
    "### columns for each emotion score have already been normalized during the dataset creation process, therefore are excluded from this step"
   ]
  },
  {
   "cell_type": "code",
   "execution_count": 13,
   "id": "7449e1f6-bbcf-4e9a-aa37-ed789c2a11e6",
   "metadata": {},
   "outputs": [
    {
     "data": {
      "text/html": [
       "<div>\n",
       "<style scoped>\n",
       "    .dataframe tbody tr th:only-of-type {\n",
       "        vertical-align: middle;\n",
       "    }\n",
       "\n",
       "    .dataframe tbody tr th {\n",
       "        vertical-align: top;\n",
       "    }\n",
       "\n",
       "    .dataframe thead th {\n",
       "        text-align: right;\n",
       "    }\n",
       "</style>\n",
       "<table border=\"1\" class=\"dataframe\">\n",
       "  <thead>\n",
       "    <tr style=\"text-align: right;\">\n",
       "      <th></th>\n",
       "      <th>Track Popularity</th>\n",
       "      <th>Sentiment Score</th>\n",
       "    </tr>\n",
       "  </thead>\n",
       "  <tbody>\n",
       "    <tr>\n",
       "      <th>0</th>\n",
       "      <td>0.887640</td>\n",
       "      <td>0.484433</td>\n",
       "    </tr>\n",
       "    <tr>\n",
       "      <th>1</th>\n",
       "      <td>0.955056</td>\n",
       "      <td>0.367688</td>\n",
       "    </tr>\n",
       "    <tr>\n",
       "      <th>2</th>\n",
       "      <td>0.719101</td>\n",
       "      <td>0.620015</td>\n",
       "    </tr>\n",
       "    <tr>\n",
       "      <th>3</th>\n",
       "      <td>0.561798</td>\n",
       "      <td>0.441116</td>\n",
       "    </tr>\n",
       "    <tr>\n",
       "      <th>4</th>\n",
       "      <td>0.786517</td>\n",
       "      <td>0.458541</td>\n",
       "    </tr>\n",
       "  </tbody>\n",
       "</table>\n",
       "</div>"
      ],
      "text/plain": [
       "   Track Popularity  Sentiment Score\n",
       "0          0.887640         0.484433\n",
       "1          0.955056         0.367688\n",
       "2          0.719101         0.620015\n",
       "3          0.561798         0.441116\n",
       "4          0.786517         0.458541"
      ]
     },
     "execution_count": 13,
     "metadata": {},
     "output_type": "execute_result"
    }
   ],
   "source": [
    "import pandas as pd\n",
    "from sklearn.preprocessing import MinMaxScaler\n",
    "\n",
    "# INITIALIZE THE MINMAX SCALER\n",
    "min_max_scaler = MinMaxScaler()\n",
    "\n",
    "# DEFINING MY NUMERICAL COLUMNS\n",
    "numerical_columns_music = [\n",
    "    \"Track Popularity\", \"Sentiment Score\"\n",
    "]\n",
    "\n",
    "# APPLYING THE MIN-MAX SCALER TO THE NUMERICAL COLUMNS\n",
    "music_df[numerical_columns_music] = min_max_scaler.fit_transform(music_df[numerical_columns_music])\n",
    "\n",
    "# Display the normalized columns\n",
    "music_df[['Track Popularity', 'Sentiment Score']].head()\n"
   ]
  },
  {
   "cell_type": "code",
   "execution_count": 65,
   "id": "3f37ab3d-c9b0-4ac2-baf3-c9ec1f22bccd",
   "metadata": {},
   "outputs": [
    {
     "data": {
      "text/plain": [
       "0             dreamin  wishin  fool  aw  love\n",
       "1               byeyou  ain  leave  bye  baby\n",
       "2         girl  christina  needs  love  wants\n",
       "3    craving  sugar  candy  begging  addicted\n",
       "4     thinkin  confession  lookin  stay  door\n",
       "Name: Extracted_Keywords, dtype: object"
      ]
     },
     "execution_count": 65,
     "metadata": {},
     "output_type": "execute_result"
    }
   ],
   "source": [
    "#music_df['Extracted_Keywords'] = music_df['Extracted_Keywords'].apply(lambda x: ' '.join(x) if isinstance(x, list) else x)\n",
    "# Replace commas with spaces in the Extracted_Keywords column\n",
    "#music_df['Extracted_Keywords'] = music_df['Extracted_Keywords'].str.replace(',', ' ')\n",
    "\n",
    "#music_df['Extracted_Keywords'].head()"
   ]
  },
  {
   "cell_type": "markdown",
   "id": "3f6221b5-175f-41cb-b95a-fd767f2c13fe",
   "metadata": {},
   "source": [
    "### STEP 4 : CHECKING FOR DUPLICATES"
   ]
  },
  {
   "cell_type": "code",
   "execution_count": 15,
   "id": "6e832213-ed05-4cab-806b-e73947ce9516",
   "metadata": {},
   "outputs": [
    {
     "name": "stdout",
     "output_type": "stream",
     "text": [
      "Number of duplicate rows: 24\n"
     ]
    }
   ],
   "source": [
    "# CHECKING THE NUMBER OF DUPLICATE ROWS\n",
    "num_duplicates = music_df.duplicated(subset=['Track Name', 'Artist']).sum()\n",
    "\n",
    "print(f\"Number of duplicate rows: {num_duplicates}\")\n",
    "\n",
    "# REMOVING THE DUPLICATES\n",
    "music_df.drop_duplicates(inplace=True)\n",
    "\n",
    "# Save the cleaned DataFrame\n",
    "#music_df.to_csv(\"cleaned_music_dataset.csv\", index=False)\n",
    "\n",
    "#print(\"Duplicate rows removed and cleaned dataset saved as 'cleaned_music_dataset.csv'.\")\n"
   ]
  },
  {
   "cell_type": "markdown",
   "id": "37e0c11a-cc5d-4f19-83a9-f97167cdbad2",
   "metadata": {},
   "source": [
    "### STEP 5 : DROPPING ROWS WITH EMPTY 'LYRICS'"
   ]
  },
  {
   "cell_type": "code",
   "execution_count": 17,
   "id": "57b62a3a-ca2e-433d-9742-68a89c7bc3de",
   "metadata": {},
   "outputs": [
    {
     "name": "stdout",
     "output_type": "stream",
     "text": [
      "Number of rows with empty or NaN Lyrics: 0\n",
      "No rows to drop\n"
     ]
    }
   ],
   "source": [
    "import pandas as pd\n",
    "\n",
    "# COUNTING ROWS WITH EMPTY Lyrics\n",
    "empty_lyrics_count = music_df[music_df['Lyrics'].isna() | (music_df['Lyrics'] == '')].shape[0]\n",
    "\n",
    "print(f\"Number of rows with empty or NaN Lyrics: {empty_lyrics_count}\")\n",
    "print(\"No rows to drop\")"
   ]
  },
  {
   "cell_type": "code",
   "execution_count": 19,
   "id": "09d0fb10-7ba5-43eb-86a8-b2ca19f256af",
   "metadata": {},
   "outputs": [
    {
     "name": "stdout",
     "output_type": "stream",
     "text": [
      "<class 'pandas.core.frame.DataFrame'>\n",
      "Index: 1466 entries, 0 to 1489\n",
      "Data columns (total 10 columns):\n",
      " #   Column              Non-Null Count  Dtype  \n",
      "---  ------              --------------  -----  \n",
      " 0   Track Name          1466 non-null   object \n",
      " 1   Artist              1466 non-null   object \n",
      " 2   Album               1466 non-null   object \n",
      " 3   Release Year        1466 non-null   int64  \n",
      " 4   Track Popularity    1466 non-null   float64\n",
      " 5   Lyrics              1466 non-null   object \n",
      " 6   Processed_Lyrics    1466 non-null   object \n",
      " 7   Sentiment           1466 non-null   object \n",
      " 8   Sentiment Score     1466 non-null   float64\n",
      " 9   Extracted_Keywords  1466 non-null   object \n",
      "dtypes: float64(2), int64(1), object(7)\n",
      "memory usage: 126.0+ KB\n"
     ]
    }
   ],
   "source": [
    "music_df.info()"
   ]
  },
  {
   "cell_type": "code",
   "execution_count": 21,
   "id": "452532e3-cb85-4db0-b7b5-80d1c98f6524",
   "metadata": {},
   "outputs": [
    {
     "data": {
      "text/html": [
       "<div>\n",
       "<style scoped>\n",
       "    .dataframe tbody tr th:only-of-type {\n",
       "        vertical-align: middle;\n",
       "    }\n",
       "\n",
       "    .dataframe tbody tr th {\n",
       "        vertical-align: top;\n",
       "    }\n",
       "\n",
       "    .dataframe thead th {\n",
       "        text-align: right;\n",
       "    }\n",
       "</style>\n",
       "<table border=\"1\" class=\"dataframe\">\n",
       "  <thead>\n",
       "    <tr style=\"text-align: right;\">\n",
       "      <th></th>\n",
       "      <th>Track Name</th>\n",
       "      <th>Artist</th>\n",
       "      <th>Album</th>\n",
       "      <th>Release Year</th>\n",
       "      <th>Track Popularity</th>\n",
       "      <th>Lyrics</th>\n",
       "      <th>Processed_Lyrics</th>\n",
       "      <th>Sentiment</th>\n",
       "      <th>Sentiment Score</th>\n",
       "      <th>Extracted_Keywords</th>\n",
       "    </tr>\n",
       "  </thead>\n",
       "  <tbody>\n",
       "    <tr>\n",
       "      <th>0</th>\n",
       "      <td>oops!...i did it again</td>\n",
       "      <td>britney spears</td>\n",
       "      <td>oops!... i did it again</td>\n",
       "      <td>2000</td>\n",
       "      <td>0.887640</td>\n",
       "      <td>Mmm, yeah\\nYeah, yeah, yeah, yeah, yeah, yeah\\...</td>\n",
       "      <td>mmm think made believe friend baby might seem ...</td>\n",
       "      <td>positive</td>\n",
       "      <td>0.484433</td>\n",
       "      <td>dreamin, wishin, fool, aw, love</td>\n",
       "    </tr>\n",
       "    <tr>\n",
       "      <th>1</th>\n",
       "      <td>bye bye bye - from deadpool and wolverine soun...</td>\n",
       "      <td>*nsync</td>\n",
       "      <td>no strings attached</td>\n",
       "      <td>2000</td>\n",
       "      <td>0.955056</td>\n",
       "      <td>Bye, bye, bye\\nBye, bye\\n♪\\nBye, bye\\n♪\\nI, I'...</td>\n",
       "      <td>bye bye bye bye bye bye bye im tonight youre p...</td>\n",
       "      <td>negative</td>\n",
       "      <td>0.367688</td>\n",
       "      <td>byeyou, ain, leave, bye, baby</td>\n",
       "    </tr>\n",
       "    <tr>\n",
       "      <th>2</th>\n",
       "      <td>what a girl wants</td>\n",
       "      <td>christina aguilera</td>\n",
       "      <td>christina aguilera (expanded edition)</td>\n",
       "      <td>1999</td>\n",
       "      <td>0.719101</td>\n",
       "      <td>What a girl wants, what a girl needs\\nWhatever...</td>\n",
       "      <td>girl want girl need whatever make happy set fr...</td>\n",
       "      <td>positive</td>\n",
       "      <td>0.620015</td>\n",
       "      <td>girl, christina, needs, love, wants</td>\n",
       "    </tr>\n",
       "    <tr>\n",
       "      <th>3</th>\n",
       "      <td>candy</td>\n",
       "      <td>mandy moore</td>\n",
       "      <td>so real</td>\n",
       "      <td>1999</td>\n",
       "      <td>0.561798</td>\n",
       "      <td>Give it to me\\nOoh, oh\\nYeah, yeah, yeah, yeah...</td>\n",
       "      <td>give ooh ooh give ooh ooh give im addicted lov...</td>\n",
       "      <td>positive</td>\n",
       "      <td>0.441116</td>\n",
       "      <td>craving, sugar, candy, begging, addicted</td>\n",
       "    </tr>\n",
       "    <tr>\n",
       "      <th>4</th>\n",
       "      <td>shape of my heart</td>\n",
       "      <td>backstreet boys</td>\n",
       "      <td>black &amp; blue</td>\n",
       "      <td>2000</td>\n",
       "      <td>0.786517</td>\n",
       "      <td>Hmm, mmmh, yeah, yeah\\nBaby, please try to for...</td>\n",
       "      <td>hmm mmmh baby please try forgive stay dont put...</td>\n",
       "      <td>positive</td>\n",
       "      <td>0.458541</td>\n",
       "      <td>thinkin, confession, lookin, stay, door</td>\n",
       "    </tr>\n",
       "  </tbody>\n",
       "</table>\n",
       "</div>"
      ],
      "text/plain": [
       "                                          Track Name              Artist  \\\n",
       "0                             oops!...i did it again      britney spears   \n",
       "1  bye bye bye - from deadpool and wolverine soun...              *nsync   \n",
       "2                                  what a girl wants  christina aguilera   \n",
       "3                                              candy         mandy moore   \n",
       "4                                  shape of my heart     backstreet boys   \n",
       "\n",
       "                                   Album  Release Year  Track Popularity  \\\n",
       "0                oops!... i did it again          2000          0.887640   \n",
       "1                    no strings attached          2000          0.955056   \n",
       "2  christina aguilera (expanded edition)          1999          0.719101   \n",
       "3                                so real          1999          0.561798   \n",
       "4                           black & blue          2000          0.786517   \n",
       "\n",
       "                                              Lyrics  \\\n",
       "0  Mmm, yeah\\nYeah, yeah, yeah, yeah, yeah, yeah\\...   \n",
       "1  Bye, bye, bye\\nBye, bye\\n♪\\nBye, bye\\n♪\\nI, I'...   \n",
       "2  What a girl wants, what a girl needs\\nWhatever...   \n",
       "3  Give it to me\\nOoh, oh\\nYeah, yeah, yeah, yeah...   \n",
       "4  Hmm, mmmh, yeah, yeah\\nBaby, please try to for...   \n",
       "\n",
       "                                    Processed_Lyrics Sentiment  \\\n",
       "0  mmm think made believe friend baby might seem ...  positive   \n",
       "1  bye bye bye bye bye bye bye im tonight youre p...  negative   \n",
       "2  girl want girl need whatever make happy set fr...  positive   \n",
       "3  give ooh ooh give ooh ooh give im addicted lov...  positive   \n",
       "4  hmm mmmh baby please try forgive stay dont put...  positive   \n",
       "\n",
       "   Sentiment Score                        Extracted_Keywords  \n",
       "0         0.484433           dreamin, wishin, fool, aw, love  \n",
       "1         0.367688             byeyou, ain, leave, bye, baby  \n",
       "2         0.620015       girl, christina, needs, love, wants  \n",
       "3         0.441116  craving, sugar, candy, begging, addicted  \n",
       "4         0.458541   thinkin, confession, lookin, stay, door  "
      ]
     },
     "execution_count": 21,
     "metadata": {},
     "output_type": "execute_result"
    }
   ],
   "source": [
    "music_df.head()\n"
   ]
  },
  {
   "cell_type": "code",
   "execution_count": 23,
   "id": "c935f895-80ff-475f-a14f-47469a74f25a",
   "metadata": {},
   "outputs": [],
   "source": [
    "music_df.to_csv('my_preprocessed_SPOTIFY_GENIUS_SONG_DATASET.csv', index=False)"
   ]
  },
  {
   "cell_type": "code",
   "execution_count": null,
   "id": "397a39be-da2a-4027-b070-5a726cef9f91",
   "metadata": {},
   "outputs": [],
   "source": []
  }
 ],
 "metadata": {
  "kernelspec": {
   "display_name": "Python 3 (ipykernel)",
   "language": "python",
   "name": "python3"
  },
  "language_info": {
   "codemirror_mode": {
    "name": "ipython",
    "version": 3
   },
   "file_extension": ".py",
   "mimetype": "text/x-python",
   "name": "python",
   "nbconvert_exporter": "python",
   "pygments_lexer": "ipython3",
   "version": "3.12.4"
  }
 },
 "nbformat": 4,
 "nbformat_minor": 5
}
